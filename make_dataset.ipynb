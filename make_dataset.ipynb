{
 "cells": [
  {
   "cell_type": "code",
   "execution_count": 1,
   "metadata": {},
   "outputs": [],
   "source": [
    "import rasterio\n",
    "import matplotlib.pyplot as plt\n",
    "import pathlib as Path\n",
    "import random\n",
    "from scipy.ndimage import label\n",
    "from skimage.color import label2rgb\n",
    "import numpy as np\n",
    "import os\n",
    "\n",
    "from PIL import Image as im"
   ]
  },
  {
   "cell_type": "code",
   "execution_count": 2,
   "metadata": {},
   "outputs": [],
   "source": [
    "root_folder = \"belgium\"\n",
    "\n",
    "window_a_folder = Path.Path(root_folder) / \"s2_images\" / \"window_a\"\n",
    "window_b_folder = Path.Path(root_folder) / \"s2_images\" / \"window_b\"\n",
    "label_masks_2_class = Path.Path(root_folder) / \"label_masks\" / \"semantic_2class\"\n",
    "label_masks_3_class = Path.Path(root_folder) / \"label_masks\" / \"semantic_3class\"\n",
    "label_masks_instance = Path.Path(root_folder) / \"label_masks\" / \"instance\"\n",
    "\n",
    "img_files = os.listdir(window_a_folder)\n",
    "semantic_2_class_files = list(label_masks_2_class.glob(\"*.tif\"))"
   ]
  },
  {
   "cell_type": "code",
   "execution_count": 3,
   "metadata": {},
   "outputs": [],
   "source": [
    "# delete empty masks as they may cause issues later on during training/testing\n",
    "valid_masks = []\n",
    "for mask in os.listdir(label_masks_3_class):\n",
    "    with rasterio.open(os.path.join(label_masks_3_class, mask)) as src:\n",
    "        img = src.read()[:3, :, :]  # Reading first 3 bands\n",
    "        img = img.transpose(1, 2, 0) / 3000  # Normalizing \n",
    "\n",
    "        if np.max(img) > 0:\n",
    "            valid_masks.append(mask)\n"
   ]
  },
  {
   "cell_type": "markdown",
   "metadata": {},
   "source": [
    "## TRAIN TEST SPLIT"
   ]
  },
  {
   "cell_type": "code",
   "execution_count": 36,
   "metadata": {},
   "outputs": [],
   "source": [
    "train_size = int(0.80 * len(valid_masks))\n",
    "np.random.seed(42)"
   ]
  },
  {
   "cell_type": "code",
   "execution_count": 37,
   "metadata": {},
   "outputs": [],
   "source": [
    "idxs = np.random.randint(0, len(valid_masks), train_size)\n",
    "# name of every training image/mask in the folder\n",
    "train_img = np.array(valid_masks)[idxs]\n",
    "\n",
    "# same for test dataset\n",
    "test_img = np.array(valid_masks)[~idxs]"
   ]
  },
  {
   "cell_type": "code",
   "execution_count": 38,
   "metadata": {},
   "outputs": [],
   "source": [
    "## MAKE TRAINING FOLDERS IMAGES + GROUND TRUTH\n",
    "import os\n",
    "import glob\n",
    "\n",
    "## da fare (check se dataset esiste)\n",
    "\n",
    "files = glob.glob('/tiff_dataset/*')\n",
    "for f in files:\n",
    "    os.remove(f)\n",
    "\n",
    "os.makedirs(Path.Path(os.getcwd()) / \"dataset\" / \"training\" / \"images\")\n",
    "os.makedirs(Path.Path(os.getcwd()) / \"dataset\" / \"training\" / \"gt\")\n",
    "\n",
    "\n",
    "for image_name in train_img:\n",
    "    # source paths\n",
    "    from_img = window_a_folder / str(image_name)\n",
    "    from_gt = label_masks_3_class / str(image_name)\n",
    "\n",
    "    # destination paths\n",
    "    to_img = Path.Path(\"dataset/training/images/\") / str(image_name).split('.')[0]\n",
    "    to_gt = Path.Path(\"dataset/training/gt/\") / str(image_name).split('.')[0]\n",
    "\n",
    "    with rasterio.open(from_img) as src:\n",
    "        window_a = src.read()[:3, :, :]  # Reading first 3 bands\n",
    "        window_a = window_a.transpose(1, 2, 0) / 3000  # Normalizing \n",
    "    \n",
    "        data = im.fromarray((window_a * 255).astype(np.uint8))  \n",
    "        data.save(str(to_img)+'.png', 'PNG')\n",
    "\n",
    "    with rasterio.open(from_gt) as src:\n",
    "        semantic_3_class = src.read()\n",
    "        semantic_3_class = (semantic_3_class * 127.5).astype(np.uint8)\n",
    "        semantic_3_class[semantic_3_class < 255] = 0\n",
    "        data = im.fromarray(semantic_3_class[0]).convert('RGB')\n",
    "\n",
    "        data.save(str(to_gt)+'.png', 'PNG')"
   ]
  },
  {
   "cell_type": "code",
   "execution_count": 39,
   "metadata": {},
   "outputs": [],
   "source": [
    "# SAME FOR TEST DATASET\n",
    "\n",
    "os.makedirs(Path.Path(os.getcwd()) / \"dataset\" / \"test\" / \"images\")\n",
    "os.makedirs(Path.Path(os.getcwd()) / \"dataset\" / \"test\" / \"gt\")\n",
    "\n",
    "\n",
    "for image_name in test_img:\n",
    "    # source paths\n",
    "    from_img = window_a_folder / str(image_name)\n",
    "    from_gt = label_masks_3_class / str(image_name)\n",
    "\n",
    "    # destination paths\n",
    "    to_img = Path.Path(\"dataset/test/images/\") / str(image_name).split('.')[0]\n",
    "    to_gt = Path.Path(\"dataset/test/gt/\") / str(image_name).split('.')[0]\n",
    "\n",
    "    with rasterio.open(from_img) as src:\n",
    "        window_a = src.read()[:3, :, :]  # Reading first 3 bands\n",
    "        window_a = window_a.transpose(1, 2, 0) / 3000  # Normalizing \n",
    "    \n",
    "        data = im.fromarray((window_a * 255).astype(np.uint8))  \n",
    "        data.save(str(to_img)+'.png', 'PNG')\n",
    "\n",
    "    with rasterio.open(from_gt) as src:\n",
    "        semantic_3_class = src.read()\n",
    "        semantic_3_class = (semantic_3_class * 127.5).astype(np.uint8)\n",
    "        semantic_3_class[semantic_3_class < 255] = 0\n",
    "        data = im.fromarray(semantic_3_class[0]).convert('RGB')\n",
    "\n",
    "        data.save(str(to_gt)+'.png', 'PNG')"
   ]
  }
 ],
 "metadata": {
  "kernelspec": {
   "display_name": ".venv",
   "language": "python",
   "name": "python3"
  },
  "language_info": {
   "codemirror_mode": {
    "name": "ipython",
    "version": 3
   },
   "file_extension": ".py",
   "mimetype": "text/x-python",
   "name": "python",
   "nbconvert_exporter": "python",
   "pygments_lexer": "ipython3",
   "version": "3.11.0"
  }
 },
 "nbformat": 4,
 "nbformat_minor": 2
}
